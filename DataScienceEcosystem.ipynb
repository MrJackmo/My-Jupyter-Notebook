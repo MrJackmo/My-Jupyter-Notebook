{
 "cells": [
  {
   "cell_type": "markdown",
   "id": "d1b2d42b-c638-470e-9cc9-6a3a2098eced",
   "metadata": {
    "tags": []
   },
   "source": [
    "# Data Science Tools and Ecosystem"
   ]
  },
  {
   "cell_type": "markdown",
   "id": "8997191b-d810-48f3-b59c-055c9a6df78f",
   "metadata": {},
   "source": [
    "In this notebook, Data Science Tools and Ecosystem are summarized."
   ]
  },
  {
   "cell_type": "markdown",
   "id": "10941ca6-b77b-4831-8582-356e5a5ac5da",
   "metadata": {
    "tags": []
   },
   "source": [
    "**Objectives:**\n",
    "- List popular languages for Data Science\n",
    "- List of commonly used libraries used by Data Scientists\n",
    "- Table of Data Science tools\n",
    "- Examples of evaluating arithmetic expressions in Python\n"
   ]
  },
  {
   "cell_type": "markdown",
   "id": "454b8a34-e695-406f-9df9-bc854e455e7a",
   "metadata": {},
   "source": [
    "Some of the popular languages that Data Scientists use are:\n",
    "1. Python\n",
    "2. R\n",
    "3. SQL"
   ]
  },
  {
   "cell_type": "markdown",
   "id": "9bd0459b-08d3-46ef-95f6-62614752408c",
   "metadata": {},
   "source": [
    "Some of the commonly used libraries used by Data Scientists include:\n",
    "1. Pandas\n",
    "2. Numpy\n",
    "3. Matplotlib"
   ]
  },
  {
   "cell_type": "code",
   "execution_count": null,
   "id": "d829c44c-b46b-409a-9063-9178bab5032b",
   "metadata": {},
   "outputs": [],
   "source": [
    "Table of Data Science tools:"
   ]
  },
  {
   "cell_type": "markdown",
   "id": "12ad9a34-729c-4ba3-95c0-47bafb6e0a8d",
   "metadata": {
    "tags": []
   },
   "source": [
    "| Data Science Tools   |\n",
    "|----------------------|\n",
    "| Jupyter Notebooks    |\n",
    "| RStudio              |\n",
    "| VS Code with Python  |"
   ]
  },
  {
   "cell_type": "markdown",
   "id": "14fbd01c-54c4-41de-b895-ab2cba15076e",
   "metadata": {
    "tags": []
   },
   "source": [
    "### Below are a few examples of evaluating arithmetic expressions in Python"
   ]
  },
  {
   "cell_type": "code",
   "execution_count": 3,
   "id": "0e941c38-ede8-43f9-a61b-3da79045f850",
   "metadata": {
    "tags": []
   },
   "outputs": [
    {
     "data": {
      "text/plain": [
       "17"
      ]
     },
     "execution_count": 3,
     "metadata": {},
     "output_type": "execute_result"
    }
   ],
   "source": [
    "#This a simple arithmetic expression to mutiply then add integers\n",
    "(3*4)+5"
   ]
  },
  {
   "cell_type": "code",
   "execution_count": 6,
   "id": "748e47c1-cccb-465e-a341-039795c98b3c",
   "metadata": {
    "tags": []
   },
   "outputs": [
    {
     "data": {
      "text/plain": [
       "3.3333333333333335"
      ]
     },
     "execution_count": 6,
     "metadata": {},
     "output_type": "execute_result"
    }
   ],
   "source": [
    "#This will convert 200 minutes to hours by diving by 60\n",
    "valuetoconvert = 200\n",
    "hour = 60\n",
    "hours = valuetoconvert / hour\n",
    "hours"
   ]
  },
  {
   "cell_type": "markdown",
   "id": "1c5223e8-83b3-442d-9b70-36e6f6e46c08",
   "metadata": {},
   "source": [
    "## Author\n",
    "Mohammed Filali Aouami"
   ]
  }
 ],
 "metadata": {
  "kernelspec": {
   "display_name": "Python 3 (ipykernel)",
   "language": "python",
   "name": "python3"
  },
  "language_info": {
   "codemirror_mode": {
    "name": "ipython",
    "version": 3
   },
   "file_extension": ".py",
   "mimetype": "text/x-python",
   "name": "python",
   "nbconvert_exporter": "python",
   "pygments_lexer": "ipython3",
   "version": "3.11.5"
  }
 },
 "nbformat": 4,
 "nbformat_minor": 5
}
